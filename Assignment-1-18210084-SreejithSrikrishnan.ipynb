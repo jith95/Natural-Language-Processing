{
 "cells": [
  {
   "cell_type": "code",
   "execution_count": 150,
   "metadata": {},
   "outputs": [
    {
     "name": "stdout",
     "output_type": "stream",
     "text": [
      "[nltk_data] Downloading package wordnet to\n",
      "[nltk_data]     C:\\Users\\SREEJITH\\AppData\\Roaming\\nltk_data...\n",
      "[nltk_data]   Package wordnet is already up-to-date!\n"
     ]
    },
    {
     "data": {
      "text/plain": [
       "True"
      ]
     },
     "execution_count": 150,
     "metadata": {},
     "output_type": "execute_result"
    }
   ],
   "source": [
    "#importing all the required libraries and reading the dataset\n",
    "from matplotlib import pyplot\n",
    "import nltk\n",
    "import pandas as pd\n",
    "import re\n",
    "import operator\n",
    "import numpy as np\n",
    "from nltk.tokenize import word_tokenize\n",
    "dataset=pd.read_csv('tweets-dataset.csv')\n",
    "nltk.download('wordnet')"
   ]
  },
  {
   "cell_type": "markdown",
   "metadata": {},
   "source": [
    "# 1.a) Calculating the types,tokens and their ratio(TTR):"
   ]
  },
  {
   "cell_type": "code",
   "execution_count": 151,
   "metadata": {},
   "outputs": [],
   "source": [
    "# generating all the tokens\n",
    "\n",
    "tokens=[]\n",
    "for i in data['Sentence']:\n",
    "    token=nltk.word_tokenize(i)\n",
    "    for j in token:\n",
    "        tokens.append(j)"
   ]
  },
  {
   "cell_type": "code",
   "execution_count": 157,
   "metadata": {},
   "outputs": [],
   "source": [
    "# calculating the types , this dictionary is used in later sub parts of the question as well\n",
    "\n",
    "tokencount = 0\n",
    "types = {}\n",
    "regex = \"[A-Za-z0-9]*\"\n",
    "for token in tokens:\n",
    "    token = token.lower()\n",
    "    token = (re.match(regex,token)).group(0)\n",
    "    if token ==\"\":\n",
    "        continue;\n",
    "    tokencount +=1\n",
    "    if token not in types:\n",
    "        types[token] = 1\n",
    "    else:\n",
    "        types[token] += 1\n",
    "numtypes = len(types)"
   ]
  },
  {
   "cell_type": "code",
   "execution_count": 158,
   "metadata": {},
   "outputs": [
    {
     "name": "stdout",
     "output_type": "stream",
     "text": [
      "Types= 36301\n",
      "Tokens= 313001\n",
      "Types to Token ratio(TTR)= 0.11597726524835383\n"
     ]
    }
   ],
   "source": [
    "#calculating the ttr\n",
    "\n",
    "ttr = numtypes/tokencount\n",
    "print(\"Types=\",numtypes)\n",
    "print(\"Tokens=\", tokencount)\n",
    "print(\"Types to Token ratio(TTR)=\", ttr)"
   ]
  },
  {
   "cell_type": "markdown",
   "metadata": {},
   "source": [
    "# 1.b) Zipfs law for meanings and length"
   ]
  },
  {
   "cell_type": "markdown",
   "metadata": {},
   "source": [
    "# i)For meanings vs frequency:"
   ]
  },
  {
   "cell_type": "code",
   "execution_count": 99,
   "metadata": {},
   "outputs": [],
   "source": [
    "# this is obtained from the types dictionary i've created above,which maintains a frequency count of each word\n",
    "#i've taken 15 random words and calculated their frequenices.\n",
    "\n",
    "wordfrequency={'the': types['the'],'and':types['and'] ,'right': types['right'] ,'bad': types['bad'] ,'talk': types['talk'] ,\n",
    "               'hello': types['hello'] ,'hate': types['hate'] ,'politics': types['politics'] ,\n",
    "               'welcome':types['welcome'],'bye':types['bye'] ,'a':types['a'],'why':types['why'],'no':types['no'],\n",
    "               'nail':types['nail'], 'man':types['man']} "
   ]
  },
  {
   "cell_type": "code",
   "execution_count": 124,
   "metadata": {},
   "outputs": [],
   "source": [
    "# this obtains the number of meanings of each word\n",
    "\n",
    "wordmeaning={}\n",
    "for word in wordfrequency:\n",
    "    wordmeaning[word] = len(wordnet.synsets(word))"
   ]
  },
  {
   "cell_type": "code",
   "execution_count": 140,
   "metadata": {},
   "outputs": [
    {
     "data": {
      "image/png": "[encoded data removed]",
      "text/plain": [
       "<Figure size 432x288 with 1 Axes>"
      ]
     },
     "metadata": {},
     "output_type": "display_data"
    }
   ],
   "source": [
    "# plotting to check if zipf's law holds true\n",
    "\n",
    "pyplot.plot(wordfrequency.values(), wordmeaning.values(),'^')\n",
    "pyplot.title(\"Frequency vs number of meanings of word\")\n",
    "pyplot.xlabel('Frequency of word')\n",
    "pyplot.ylabel('Number of meanings of word')\n",
    "pyplot.show()"
   ]
  },
  {
   "cell_type": "markdown",
   "metadata": {},
   "source": [
    "# here zipf's law isn't exactly followed since we took random words and checked."
   ]
  },
  {
   "cell_type": "markdown",
   "metadata": {},
   "source": [
    "# ii) For length vs frequency:"
   ]
  },
  {
   "cell_type": "code",
   "execution_count": 139,
   "metadata": {},
   "outputs": [],
   "source": [
    "#calculating the wordlengths and frequencies over all words in the dataset\n",
    "\n",
    "wordlengths = []\n",
    "wordfrequencies = []\n",
    "\n",
    "for key, val in reversed(sorted(types.items(), key = operator.itemgetter(1))):\n",
    "    wordlengths.append(len(key))\n",
    "    wordfrequencies.append(val)"
   ]
  },
  {
   "cell_type": "code",
   "execution_count": 159,
   "metadata": {},
   "outputs": [
    {
     "data": {
      "image/png": "[encoded data removed]",
      "text/plain": [
       "<Figure size 432x288 with 1 Axes>"
      ]
     },
     "metadata": {},
     "output_type": "display_data"
    }
   ],
   "source": [
    "#plotting to check if zipf's law holds true\n",
    "\n",
    "pyplot.plot(wordfrequencies, wordlengths)\n",
    "pyplot.title(\"Frequency vs Length of Words\")\n",
    "pyplot.xlabel('WordFrequency')\n",
    "pyplot.ylabel('Wordlength')\n",
    "pyplot.show()"
   ]
  },
  {
   "cell_type": "markdown",
   "metadata": {},
   "source": [
    "# as we can see from the above graph zipf's law is roughly followed\n",
    "# word length is inversely proportional to frequency"
   ]
  },
  {
   "cell_type": "markdown",
   "metadata": {},
   "source": [
    "# 1.c) heap's law"
   ]
  },
  {
   "cell_type": "code",
   "execution_count": 169,
   "metadata": {},
   "outputs": [],
   "source": [
    "# we calculate the tokens and vocbulary of each sentence individually.\n",
    "\n",
    "tokenspersegment = []\n",
    "wordspersegment = []\n",
    "\n",
    "tokensuptilcurrentsegment = 0\n",
    "wordsuptilcurrentsegment = {}\n",
    "\n",
    "\n",
    "for section in dataset.Sentence:\n",
    "  words = nltk.word_tokenize(section)\n",
    "\n",
    "  for word in words:\n",
    "    word = word.lower()\n",
    "    word = (re.match(regex, word)).group(0)\n",
    "    if word ==\"\":\n",
    "        continue;\n",
    "    tokensuptilcurrentsegment += 1\n",
    "    if word in wordsuptilcurrentsegment:\n",
    "      wordsuptilcurrentsegment[word] += 1\n",
    "    else:\n",
    "      wordsuptilcurrentsegment[word] = 1\n",
    "\n",
    "    # We keep track of each sub section's cumulative token count and vocabulary size  \n",
    "    tokenspersegment.append(tokensuptilcurrentsegment)\n",
    "    wordspersegment.append(len(wordsuptilcurrentsegment))    "
   ]
  },
  {
   "cell_type": "code",
   "execution_count": 171,
   "metadata": {},
   "outputs": [
    {
     "data": {
      "image/png": "[encoded data removed]",
      "text/plain": [
       "<Figure size 432x288 with 1 Axes>"
      ]
     },
     "metadata": {},
     "output_type": "display_data"
    },
    {
     "name": "stdout",
     "output_type": "stream",
     "text": [
      "Beta= 0.6619493614001318\n",
      "K= 8.703686389193297\n"
     ]
    }
   ],
   "source": [
    "#we plot to check for heap's law and obtain k and beta respectively from the formula for heap's law\n",
    "\n",
    "pyplot.plot(tokenspersegment, wordspersegment)\n",
    "pyplot.xlabel('Number of Tokens')\n",
    "pyplot.ylabel('Size of Vocabulary')\n",
    "pyplot.show()\n",
    "beta,k =np.polyfit(np.log(tokenspersegment),np.log(wordspersegment),1)\n",
    "print(\"Beta=\", beta)\n",
    "print(\"K=\", np.exp(k))\n"
   ]
  },
  {
   "cell_type": "markdown",
   "metadata": {},
   "source": [
    "# heap's law is verified from the above graph and values for beta and k are obtained "
   ]
  }
 ],
 "metadata": {
  "kernelspec": {
   "display_name": "Python 3",
   "language": "python",
   "name": "python3"
  },
  "language_info": {
   "codemirror_mode": {
    "name": "ipython",
    "version": 3
   },
   "file_extension": ".py",
   "mimetype": "text/x-python",
   "name": "python",
   "nbconvert_exporter": "python",
   "pygments_lexer": "ipython3",
   "version": "3.6.5"
  }
 },
 "nbformat": 4,
 "nbformat_minor": 2
}
